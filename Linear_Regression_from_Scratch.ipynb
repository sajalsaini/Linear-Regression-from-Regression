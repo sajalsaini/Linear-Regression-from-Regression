{
  "nbformat": 4,
  "nbformat_minor": 0,
  "metadata": {
    "colab": {
      "provenance": []
    },
    "kernelspec": {
      "name": "python3",
      "display_name": "Python 3"
    },
    "language_info": {
      "name": "python"
    }
  },
  "cells": [
    {
      "cell_type": "code",
      "execution_count": 10,
      "metadata": {
        "colab": {
          "base_uri": "https://localhost:8080/",
          "height": 282
        },
        "id": "NiTis78Sg0eG",
        "outputId": "64b30907-e30d-4a16-c199-f2e6da081186"
      },
      "outputs": [
        {
          "output_type": "execute_result",
          "data": {
            "text/plain": [
              "<matplotlib.collections.PathCollection at 0x7f4d154a19d0>"
            ]
          },
          "metadata": {},
          "execution_count": 10
        },
        {
          "output_type": "display_data",
          "data": {
            "text/plain": [
              "<Figure size 432x288 with 1 Axes>"
            ],
            "image/png": "[encoded data removed]"
          },
          "metadata": {
            "needs_background": "light"
          }
        }
      ],
      "source": [
        "import numpy as np\n",
        "import matplotlib.pyplot as plt\n",
        "\n",
        "# Features vector\n",
        "x = np.array([35.48813504, 37.15189366, 36.02763376, 35.44883183, 34.23654799,\n",
        "       36.45894113, 34.37587211, 38.91773001, 39.63662761, 33.83441519,\n",
        "       37.91725038, 35.2889492 , 35.68044561, 39.25596638, 30.71036058,\n",
        "       30.871293  , 30.20218397, 38.32619846, 37.78156751, 38.70012148,\n",
        "       39.78618342, 37.99158564, 34.61479362, 37.80529176, 31.18274426]) / 10\n",
        "\n",
        "# Labels vector\n",
        "y = np.array([4.38520061, 3.16149389, 4.67530465, 4.21746519, 4.40839628,\n",
        "       3.53589972, 4.91069181, 3.24098257, 3.24996869, 3.8723874 ,\n",
        "       3.71471908, 4.40032668, 4.29654058, 3.86564066, 6.03192935,\n",
        "       5.48225334, 5.86622203, 3.73386091, 2.8726241 , 3.60174454,\n",
        "       3.36552398, 3.06984857, 3.8249487 , 3.28088958, 5.37002006])\n",
        "\n",
        "# Plotting the dataset\n",
        "plt.scatter(x, y)"
      ]
    },
    {
      "cell_type": "code",
      "source": [
        "# Defining the best fit line\n",
        "# Θ is an array of our initial guesses for the parameters.\n",
        "\n",
        "def f(x, Θ):\n",
        "  return Θ[0] + Θ[1]*x"
      ],
      "metadata": {
        "id": "j1qcXP_6iewD"
      },
      "execution_count": 11,
      "outputs": []
    },
    {
      "cell_type": "code",
      "source": [
        "# Defining loss function\n",
        "\n",
        "def L(Θ):\n",
        "  return 0.5*np.mean((f(x, Θ) - y)**2)\n",
        "\n",
        "# Calculating the gradient\n",
        "# The best fit line function is being differentiated w.r.t Theta 0 and Theta 1 to the get the gradient array\n",
        "\n",
        "def gradient(Θ):\n",
        "  g0 = np.mean((f(x, Θ) - y) * 1.) # Partial differentiation of f(x, Θ) w.r.t Theta 0\n",
        "  g1 = np.mean((f(x, Θ) - y) * x)  # Partial differentiation of f(x, Θ) w.r.t Theta 1\n",
        "  return np.array([g0, g1]) # Combining them in an array\n",
        "\n",
        "# Calculating the new parameter values by subtracting them from the product of learning rate and the gradient values calculated using the gradient function\n",
        "\n",
        "def apply_gradients(Θ, grads, α = 0.01):\n",
        "  return Θ - α * grads"
      ],
      "metadata": {
        "id": "Gsyo7bvOQs0t"
      },
      "execution_count": 12,
      "outputs": []
    },
    {
      "cell_type": "code",
      "source": [
        "# Defining our initial guess of parameters\n",
        "\n",
        "Θ = np.array([10., 0.])\n",
        "\n",
        "# Calculating gradients and finding new parameters over 200,000 iterations\n",
        "\n",
        "for iterations in range(20000):\n",
        "  Θ = apply_gradients(Θ, gradient(Θ))\n",
        "print(Θ) "
      ],
      "metadata": {
        "colab": {
          "base_uri": "https://localhost:8080/"
        },
        "id": "1BwjBbVJSI1d",
        "outputId": "0f5731dc-17e5-46cc-eeb7-dd9dbb5d48be"
      },
      "execution_count": 15,
      "outputs": [
        {
          "output_type": "stream",
          "name": "stdout",
          "text": [
            "[12.49870616 -2.3418775 ]\n"
          ]
        }
      ]
    },
    {
      "cell_type": "code",
      "source": [
        "# According to the model 12.49 (intercept) and -2.34 (slope) are the optimum parameters with 200,000 iterations and a learning rate of 0.01\n",
        "\n",
        "# Plotting the best fit line with the parameters 12.49 and -2.34 over the dataset\n",
        "\n",
        "fitted_value = f(x, Θ)\n",
        "plt.scatter(x, y)\n",
        "plt.plot(x, fitted_value, color = \"r\")"
      ],
      "metadata": {
        "colab": {
          "base_uri": "https://localhost:8080/",
          "height": 282
        },
        "id": "rxA_N0FZXrXf",
        "outputId": "81b36abe-3c46-4fa5-8f97-05b278c5b793"
      },
      "execution_count": 18,
      "outputs": [
        {
          "output_type": "execute_result",
          "data": {
            "text/plain": [
              "[<matplotlib.lines.Line2D at 0x7f4d14f65450>]"
            ]
          },
          "metadata": {},
          "execution_count": 18
        },
        {
          "output_type": "display_data",
          "data": {
            "text/plain": [
              "<Figure size 432x288 with 1 Axes>"
            ],
            "image/png": "[encoded data removed]"
          },
          "metadata": {
            "needs_background": "light"
          }
        }
      ]
    },
    {
      "cell_type": "code",
      "source": [
        "# We can see that the model is doing pretty good with the current parameters. It is able to generalize the data points without overfitting. "
      ],
      "metadata": {
        "id": "3hUfR56WawnG"
      },
      "execution_count": 19,
      "outputs": []
    }
  ]
}